{
  "nbformat": 4,
  "nbformat_minor": 0,
  "metadata": {
    "colab": {
      "provenance": []
    },
    "kernelspec": {
      "name": "python3",
      "display_name": "Python 3"
    },
    "language_info": {
      "name": "python"
    }
  },
  "cells": [
    {
      "cell_type": "markdown",
      "source": [
        "# **Model 1**"
      ],
      "metadata": {
        "id": "QmXYxvWP-uhQ"
      }
    },
    {
      "cell_type": "code",
      "execution_count": 1,
      "metadata": {
        "id": "rE5O6NbM-tpo"
      },
      "outputs": [],
      "source": [
        "import pandas as pd\n",
        "import numpy as np\n",
        "from sklearn.model_selection import train_test_split\n",
        "from sklearn.ensemble import RandomForestRegressor\n",
        "from sklearn.preprocessing import StandardScaler, OneHotEncoder\n",
        "from sklearn.compose import ColumnTransformer\n",
        "from sklearn.pipeline import Pipeline\n",
        "from sklearn.metrics import mean_squared_error\n",
        "import pickle"
      ]
    },
    {
      "cell_type": "code",
      "source": [
        "# --- 1. Load Data ---\n",
        "file_path = \"/content/Investment_Dataset.xlsx\"\n",
        "df = pd.read_excel(file_path)"
      ],
      "metadata": {
        "id": "PW1SII9j_Xp9"
      },
      "execution_count": 2,
      "outputs": []
    },
    {
      "cell_type": "code",
      "source": [
        "# --- 2. Feature Engineering & Data Reshaping (Wide to Long Format) ---\n",
        "\n",
        "def parse_cash_flow_list(cf_str):\n",
        "    \"\"\"Safely parses the string representation of cash flows into a list of floats.\"\"\"\n",
        "    try:\n",
        "        # Strip brackets and split by comma\n",
        "        cash_flows = [float(x.strip()) for x in str(cf_str).strip('[]').split(',')]\n",
        "        # Return a list of tuples: (cash_flow, year)\n",
        "        return [(cf, i + 1) for i, cf in enumerate(cash_flows)]\n",
        "    except:\n",
        "        return []\n",
        "\n",
        "# Apply the parsing function and create a new column with (cash_flow, year) tuples\n",
        "df['Cash_Flows_List'] = df['Uneven_Cash_Flows'].apply(parse_cash_flow_list)\n",
        "\n",
        "# Explode the DataFrame: creates one row for each annual cash flow\n",
        "# We only need the project characteristics for the regressor, not the derived financials\n",
        "df_regressor = df[['Project', 'Risk_Rating', 'Project_Type', 'Market_Condition', 'Cash_Flows_List']].explode('Cash_Flows_List')\n",
        "\n",
        "# Separate the cash flow amount and the year into two new columns\n",
        "df_regressor[['Cash_Flow_Amount', 'Year']] = pd.DataFrame(df_regressor['Cash_Flows_List'].tolist(), index=df_regressor.index)\n",
        "\n",
        "# Drop intermediate columns and unnecessary columns\n",
        "df_regressor.drop(['Cash_Flows_List', 'Project'], axis=1, inplace=True)"
      ],
      "metadata": {
        "id": "UZD76dog_Xmk"
      },
      "execution_count": 3,
      "outputs": []
    },
    {
      "cell_type": "code",
      "source": [
        "# --- 3. Define Features (X_reg) and Target (y_reg) ---\n",
        "X_reg = df_regressor[['Risk_Rating', 'Project_Type', 'Market_Condition', 'Year']]\n",
        "y_reg = df_regressor['Cash_Flow_Amount']\n"
      ],
      "metadata": {
        "id": "wwhR62oh_Xjr"
      },
      "execution_count": 4,
      "outputs": []
    },
    {
      "cell_type": "code",
      "source": [
        "# --- 4. Preprocessing Pipeline Setup (Regressor) ---\n",
        "numerical_features_reg = ['Year']\n",
        "categorical_features_reg = ['Risk_Rating', 'Project_Type', 'Market_Condition']\n",
        "\n",
        "# Note: We use the regressor model to predict a price, so no scaling on the output (Cash_Flow_Amount) is needed.\n",
        "# We will scale the input 'Year' just in case.\n",
        "preprocessor_reg = ColumnTransformer(\n",
        "    transformers=[\n",
        "        ('num', StandardScaler(), numerical_features_reg),\n",
        "        ('cat', OneHotEncoder(handle_unknown='ignore'), categorical_features_reg)\n",
        "    ],\n",
        "    remainder='drop'\n",
        ")"
      ],
      "metadata": {
        "id": "0zlOf-n6_Xg4"
      },
      "execution_count": 5,
      "outputs": []
    },
    {
      "cell_type": "code",
      "source": [
        "# --- 5. Train-Test Split ---\n",
        "X_reg_train, X_reg_test, y_reg_train, y_reg_test = train_test_split(\n",
        "    X_reg, y_reg, test_size=0.3, random_state=42\n",
        ")\n"
      ],
      "metadata": {
        "id": "106sZq4O_XeF"
      },
      "execution_count": 6,
      "outputs": []
    },
    {
      "cell_type": "code",
      "source": [
        "# --- 6. Model Definition and Training (Random Forest Regressor) ---\n",
        "regressor_model = Pipeline(steps=[\n",
        "    ('preprocessor', preprocessor_reg),\n",
        "    ('regressor', RandomForestRegressor(n_estimators=100, random_state=42, n_jobs=-1))\n",
        "])\n",
        "\n",
        "print(\"Starting Cash Flow Regressor (Model 1) training...\")\n",
        "regressor_model.fit(X_reg_train, y_reg_train)\n",
        "print(\"Training complete.\")"
      ],
      "metadata": {
        "colab": {
          "base_uri": "https://localhost:8080/"
        },
        "id": "XyREQOmF_XbN",
        "outputId": "f62233c8-bebe-44e6-c13e-bb73403df7a5"
      },
      "execution_count": 7,
      "outputs": [
        {
          "output_type": "stream",
          "name": "stdout",
          "text": [
            "Starting Cash Flow Regressor (Model 1) training...\n",
            "Training complete.\n"
          ]
        }
      ]
    },
    {
      "cell_type": "code",
      "source": [
        "# --- 7. Evaluation ---\n",
        "y_reg_pred = regressor_model.predict(X_reg_test)\n",
        "mse = mean_squared_error(y_reg_test, y_reg_pred)\n",
        "rmse = np.sqrt(mse)\n",
        "print(f\"\\nCash Flow Regressor Evaluation:\")\n",
        "print(f\"Root Mean Squared Error (RMSE): ${rmse:,.2f}\")\n",
        "print(f\"Mean Cash Flow Amount (for context): ${y_reg_test.mean():,.2f}\")"
      ],
      "metadata": {
        "colab": {
          "base_uri": "https://localhost:8080/"
        },
        "id": "rrWwab4o_XYT",
        "outputId": "f20aa0ec-084c-4215-f5b5-31f526b0d476"
      },
      "execution_count": 11,
      "outputs": [
        {
          "output_type": "stream",
          "name": "stdout",
          "text": [
            "\n",
            "Cash Flow Regressor Evaluation:\n",
            "Root Mean Squared Error (RMSE): $13,930.27\n",
            "Mean Cash Flow Amount (for context): $22,955.84\n"
          ]
        }
      ]
    },
    {
      "cell_type": "code",
      "source": [
        "# --- 8. Save Model 1 ---\n",
        "model_filename_reg = 'cash_flow_regressor.pkl'\n",
        "with open(model_filename_reg, 'wb') as file:\n",
        "    pickle.dump(regressor_model, file)\n",
        "\n",
        "print(f\"\\n✅ Cash Flow Regressor (Model 1) saved as: {model_filename_reg}\")"
      ],
      "metadata": {
        "colab": {
          "base_uri": "https://localhost:8080/"
        },
        "id": "EeeaF1iK_XVh",
        "outputId": "1f36c25d-f892-4e62-d0d2-7af7bcc771c9"
      },
      "execution_count": 12,
      "outputs": [
        {
          "output_type": "stream",
          "name": "stdout",
          "text": [
            "\n",
            "✅ Cash Flow Regressor (Model 1) saved as: cash_flow_regressor.pkl\n"
          ]
        }
      ]
    },
    {
      "cell_type": "markdown",
      "source": [
        "# **Model 2**"
      ],
      "metadata": {
        "id": "pEJYkbovBW6T"
      }
    },
    {
      "cell_type": "code",
      "source": [
        "import pandas as pd\n",
        "import numpy as np\n",
        "from sklearn.model_selection import train_test_split\n",
        "from sklearn.ensemble import RandomForestClassifier\n",
        "from sklearn.preprocessing import StandardScaler, OneHotEncoder\n",
        "from sklearn.compose import ColumnTransformer\n",
        "from sklearn.pipeline import Pipeline\n",
        "from sklearn.metrics import accuracy_score, classification_report\n",
        "import joblib"
      ],
      "metadata": {
        "id": "lL9eD1bEBcVu"
      },
      "execution_count": 13,
      "outputs": []
    },
    {
      "cell_type": "code",
      "source": [
        "# --- 1. Load Data (wide format) ---\n",
        "file_path = \"/content/Investment_Dataset.xlsx\"\n",
        "df = pd.read_excel(file_path)"
      ],
      "metadata": {
        "id": "DMAmma-hBcNl"
      },
      "execution_count": 17,
      "outputs": []
    },
    {
      "cell_type": "code",
      "source": [
        "# --- 2. Feature Engineering (recreate stats from cash flow strings) ---\n",
        "def parse_cash_flow_stats(cf_str):\n",
        "    \"\"\"Extracts total inflows, average inflow, and volatility (std dev).\"\"\"\n",
        "    try:\n",
        "        cash_flows = [float(x.strip()) for x in str(cf_str).strip('[]').split(',')]\n",
        "        return pd.Series({\n",
        "            'Total_Cash_Inflows': sum(cash_flows),\n",
        "            'Avg_Cash_Flow': np.mean(cash_flows),\n",
        "            'CF_Volatility': np.std(cash_flows)\n",
        "        })\n",
        "    except:\n",
        "        return pd.Series({\n",
        "            'Total_Cash_Inflows': np.nan,\n",
        "            'Avg_Cash_Flow': np.nan,\n",
        "            'CF_Volatility': np.nan\n",
        "        })\n",
        "\n",
        "df = df.join(df['Uneven_Cash_Flows'].apply(parse_cash_flow_stats))\n",
        "df.drop('Uneven_Cash_Flows', axis=1, inplace=True)"
      ],
      "metadata": {
        "id": "bIaIUStlBcEC"
      },
      "execution_count": 18,
      "outputs": []
    },
    {
      "cell_type": "code",
      "source": [
        "# --- 3. Define Features (X_cls) and Target (y_cls) ---\n",
        "X_cls = df[['Initial_Cost', 'Discount_Rate_%', 'Risk_Rating', 'Project_Type',\n",
        "            'Market_Condition', 'Duration_Years',\n",
        "            'Total_Cash_Inflows', 'Avg_Cash_Flow', 'CF_Volatility']]\n",
        "y_cls = df['Decision']"
      ],
      "metadata": {
        "id": "eGU4dRWaBb76"
      },
      "execution_count": 19,
      "outputs": []
    },
    {
      "cell_type": "code",
      "source": [
        "# --- 4. Preprocessing Pipelines Setup (Classifier) ---\n",
        "numerical_features_cls = ['Initial_Cost', 'Discount_Rate_%', 'Duration_Years',\n",
        "                          'Total_Cash_Inflows', 'Avg_Cash_Flow', 'CF_Volatility']\n",
        "categorical_features_cls = ['Risk_Rating', 'Project_Type', 'Market_Condition']\n",
        "\n",
        "preprocessor_cls = ColumnTransformer(\n",
        "    transformers=[\n",
        "        ('num', StandardScaler(), numerical_features_cls),\n",
        "        ('cat', OneHotEncoder(handle_unknown='ignore'), categorical_features_cls)\n",
        "    ],\n",
        "    remainder='drop'\n",
        ")"
      ],
      "metadata": {
        "id": "4o0sGkRzBbzr"
      },
      "execution_count": 20,
      "outputs": []
    },
    {
      "cell_type": "code",
      "source": [
        "# --- 5. Train-Test Split (just for validation metrics) ---\n",
        "X_cls_train, X_cls_test, y_cls_train, y_cls_test = train_test_split(\n",
        "    X_cls, y_cls, test_size=0.3, random_state=42, stratify=y_cls\n",
        ")"
      ],
      "metadata": {
        "id": "LLpCHme9BbsF"
      },
      "execution_count": 21,
      "outputs": []
    },
    {
      "cell_type": "code",
      "source": [
        "# --- 6. Model Definition and Training (Random Forest Classifier) ---\n",
        "classifier_model = Pipeline(steps=[\n",
        "    ('preprocessor', preprocessor_cls),\n",
        "    ('classifier', RandomForestClassifier(\n",
        "        n_estimators=300,\n",
        "        max_depth=10,\n",
        "        class_weight='balanced',\n",
        "        random_state=42,\n",
        "        n_jobs=-1\n",
        "    ))\n",
        "])\n",
        "\n",
        "print(\"\\nStarting Decision Classifier (Model 2) training...\")\n",
        "classifier_model.fit(X_cls_train, y_cls_train)\n",
        "print(\"Training complete.\")"
      ],
      "metadata": {
        "colab": {
          "base_uri": "https://localhost:8080/"
        },
        "id": "UW4vLBIWBbiN",
        "outputId": "e4dc9412-0129-4e75-f8f0-ccd2077a9225"
      },
      "execution_count": 22,
      "outputs": [
        {
          "output_type": "stream",
          "name": "stdout",
          "text": [
            "\n",
            "Starting Decision Classifier (Model 2) training...\n",
            "Training complete.\n"
          ]
        }
      ]
    },
    {
      "cell_type": "code",
      "source": [
        "# --- 7. Evaluation ---\n",
        "y_cls_pred = classifier_model.predict(X_cls_test)\n",
        "accuracy = accuracy_score(y_cls_test, y_cls_pred)\n",
        "print(f\"\\nDecision Classifier Evaluation:\")\n",
        "print(f\"Accuracy: {accuracy:.4f}\")\n",
        "print(\"\\nClassification Report:\")\n",
        "print(classification_report(y_cls_test, y_cls_pred))"
      ],
      "metadata": {
        "colab": {
          "base_uri": "https://localhost:8080/"
        },
        "id": "RMIWd_WLBbcW",
        "outputId": "bc22985b-3b10-4d84-cbf4-88ba9c33187c"
      },
      "execution_count": 23,
      "outputs": [
        {
          "output_type": "stream",
          "name": "stdout",
          "text": [
            "\n",
            "Decision Classifier Evaluation:\n",
            "Accuracy: 0.8762\n",
            "\n",
            "Classification Report:\n",
            "              precision    recall  f1-score   support\n",
            "\n",
            "      accept       0.86      0.88      0.87       153\n",
            "      reject       0.89      0.88      0.88       170\n",
            "\n",
            "    accuracy                           0.88       323\n",
            "   macro avg       0.88      0.88      0.88       323\n",
            "weighted avg       0.88      0.88      0.88       323\n",
            "\n"
          ]
        }
      ]
    },
    {
      "cell_type": "code",
      "source": [
        "# --- 8. Save Model 2 ---\n",
        "model_filename_cls = 'decision_classifier.pkl'\n",
        "joblib.dump(classifier_model, model_filename_cls)\n",
        "\n",
        "print(f\"\\n✅ Decision Classifier (Model 2) saved as: {model_filename_cls}\")"
      ],
      "metadata": {
        "colab": {
          "base_uri": "https://localhost:8080/"
        },
        "id": "NOeL_abcCBKA",
        "outputId": "d2fc818f-7074-41a1-b3c3-f4a643c3cbd7"
      },
      "execution_count": 24,
      "outputs": [
        {
          "output_type": "stream",
          "name": "stdout",
          "text": [
            "\n",
            "✅ Decision Classifier (Model 2) saved as: decision_classifier.pkl\n"
          ]
        }
      ]
    }
  ]
}